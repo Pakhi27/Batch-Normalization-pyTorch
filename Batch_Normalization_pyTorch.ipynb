{
  "nbformat": 4,
  "nbformat_minor": 0,
  "metadata": {
    "colab": {
      "provenance": [],
      "authorship_tag": "ABX9TyM3uTuC9lU4byNvPBgte20P",
      "include_colab_link": true
    },
    "kernelspec": {
      "name": "python3",
      "display_name": "Python 3"
    },
    "language_info": {
      "name": "python"
    }
  },
  "cells": [
    {
      "cell_type": "markdown",
      "metadata": {
        "id": "view-in-github",
        "colab_type": "text"
      },
      "source": [
        "<a href=\"https://colab.research.google.com/github/Pakhi27/Batch-Normalization-pyTorch/blob/main/Batch_Normalization_pyTorch.ipynb\" target=\"_parent\"><img src=\"https://colab.research.google.com/assets/colab-badge.svg\" alt=\"Open In Colab\"/></a>"
      ]
    },
    {
      "cell_type": "code",
      "execution_count": 1,
      "metadata": {
        "colab": {
          "base_uri": "https://localhost:8080/"
        },
        "id": "y_ebq-xM0dUB",
        "outputId": "065af591-650b-4647-aa6f-881d1f62a76b"
      },
      "outputs": [
        {
          "output_type": "execute_result",
          "data": {
            "text/plain": [
              "<torch._C.Generator at 0x7c95d43b8430>"
            ]
          },
          "metadata": {},
          "execution_count": 1
        }
      ],
      "source": [
        "import torch\n",
        "import torch.nn as nn\n",
        "import torchvision.transforms as transforms\n",
        "import torchvision.datasets as dsets\n",
        "import torch.nn.functional as F\n",
        "import matplotlib.pylab as plt\n",
        "import numpy as np\n",
        "torch.manual_seed(0)"
      ]
    },
    {
      "cell_type": "code",
      "source": [
        "# Neural Network Module and Training Function¶"
      ],
      "metadata": {
        "id": "OFnw6IIX1OYa"
      },
      "execution_count": null,
      "outputs": []
    },
    {
      "cell_type": "code",
      "source": [
        "# Define the Neural Network Model using Batch Normalization\n",
        "\n",
        "class NetBatchNorm(nn.Module):\n",
        "\n",
        "    # Constructor\n",
        "    def __init__(self, in_size, n_hidden1, n_hidden2, out_size):\n",
        "        super(NetBatchNorm, self).__init__()\n",
        "        self.linear1 = nn.Linear(in_size, n_hidden1)\n",
        "        self.linear2 = nn.Linear(n_hidden1, n_hidden2)\n",
        "        self.linear3 = nn.Linear(n_hidden2, out_size)\n",
        "        self.bn1 = nn.BatchNorm1d(n_hidden1)\n",
        "        self.bn2 = nn.BatchNorm1d(n_hidden2)\n",
        "\n",
        "    # Prediction\n",
        "    def forward(self, x):\n",
        "        x = self.bn1(torch.sigmoid(self.linear1(x)))\n",
        "        x = self.bn2(torch.sigmoid(self.linear2(x)))\n",
        "        x = self.linear3(x)\n",
        "        return x\n",
        "\n",
        "    # Activations, to analyze results\n",
        "    def activation(self, x):\n",
        "        out = []\n",
        "        z1 = self.bn1(self.linear1(x))\n",
        "        out.append(z1.detach().numpy().reshape(-1))\n",
        "        a1 = torch.sigmoid(z1)\n",
        "        out.append(a1.detach().numpy().reshape(-1).reshape(-1))\n",
        "        z2 = self.bn2(self.linear2(a1))\n",
        "        out.append(z2.detach().numpy().reshape(-1))\n",
        "        a2 = torch.sigmoid(z2)\n",
        "        out.append(a2.detach().numpy().reshape(-1))\n",
        "        return out"
      ],
      "metadata": {
        "id": "qHJKuEV41PaA"
      },
      "execution_count": 2,
      "outputs": []
    },
    {
      "cell_type": "code",
      "source": [
        "# Neural Network Module with two hidden layers with out Batch Normalization"
      ],
      "metadata": {
        "id": "IJ6Bl35L1Rcp"
      },
      "execution_count": null,
      "outputs": []
    },
    {
      "cell_type": "code",
      "source": [
        "# Class Net for Neural Network Model\n",
        "\n",
        "class Net(nn.Module):\n",
        "\n",
        "    # Constructor\n",
        "    def __init__(self, in_size, n_hidden1, n_hidden2, out_size):\n",
        "\n",
        "        super(Net, self).__init__()\n",
        "        self.linear1 = nn.Linear(in_size, n_hidden1)\n",
        "        self.linear2 = nn.Linear(n_hidden1, n_hidden2)\n",
        "        self.linear3 = nn.Linear(n_hidden2, out_size)\n",
        "\n",
        "    # Prediction\n",
        "    def forward(self, x):\n",
        "        x = torch.sigmoid(self.linear1(x))\n",
        "        x = torch.sigmoid(self.linear2(x))\n",
        "        x = self.linear3(x)\n",
        "        return x\n",
        "\n",
        "    # Activations, to analyze results\n",
        "    def activation(self, x):\n",
        "        out = []\n",
        "        z1 = self.linear1(x)\n",
        "        out.append(z1.detach().numpy().reshape(-1))\n",
        "        a1 = torch.sigmoid(z1)\n",
        "        out.append(a1.detach().numpy().reshape(-1).reshape(-1))\n",
        "        z2 = self.linear2(a1)\n",
        "        out.append(z2.detach().numpy().reshape(-1))\n",
        "        a2 = torch.sigmoid(z2)\n",
        "        out.append(a2.detach().numpy().reshape(-1))\n",
        "        return out\n"
      ],
      "metadata": {
        "id": "kjBWt80p1Tn7"
      },
      "execution_count": 3,
      "outputs": []
    },
    {
      "cell_type": "code",
      "source": [
        "# Define a function to train the model. In this case the function returns a Python dictionary to store the training loss and accuracy on the validation data"
      ],
      "metadata": {
        "id": "kg9N7VfY1Xkx"
      },
      "execution_count": null,
      "outputs": []
    },
    {
      "cell_type": "code",
      "source": [
        "# Define the function to train model\n",
        "\n",
        "def train(model, criterion, train_loader, validation_loader, optimizer, epochs=100):\n",
        "    i = 0\n",
        "    useful_stuff = {'training_loss':[], 'validation_accuracy':[]}\n",
        "\n",
        "    for epoch in range(epochs):\n",
        "        for i, (x, y) in enumerate(train_loader):\n",
        "            model.train()\n",
        "            optimizer.zero_grad()\n",
        "            z = model(x.view(-1, 28 * 28))\n",
        "            loss = criterion(z, y)\n",
        "            loss.backward()\n",
        "            optimizer.step()\n",
        "            useful_stuff['training_loss'].append(loss.data.item())\n",
        "\n",
        "        correct = 0\n",
        "        for x, y in validation_loader:\n",
        "            model.eval()\n",
        "            yhat = model(x.view(-1, 28 * 28))\n",
        "            _, label = torch.max(yhat, 1)\n",
        "            correct += (label == y).sum().item()\n",
        "\n",
        "        accuracy = 100 * (correct / len(validation_dataset))\n",
        "        useful_stuff['validation_accuracy'].append(accuracy)\n",
        "\n",
        "    return useful_stuff"
      ],
      "metadata": {
        "id": "3sIswN9m1aGo"
      },
      "execution_count": 4,
      "outputs": []
    },
    {
      "cell_type": "code",
      "source": [
        "# Make Some Data"
      ],
      "metadata": {
        "id": "fhBT8aKI1cNJ"
      },
      "execution_count": null,
      "outputs": []
    },
    {
      "cell_type": "code",
      "source": [
        "# load the train dataset\n",
        "\n",
        "train_dataset = dsets.MNIST(root='./data', train=True, download=True, transform=transforms.ToTensor())"
      ],
      "metadata": {
        "colab": {
          "base_uri": "https://localhost:8080/"
        },
        "id": "c0qpXiPu1eBt",
        "outputId": "2188a60e-73b5-4968-f68f-caa932b0e086"
      },
      "execution_count": 5,
      "outputs": [
        {
          "output_type": "stream",
          "name": "stdout",
          "text": [
            "Downloading http://yann.lecun.com/exdb/mnist/train-images-idx3-ubyte.gz\n",
            "Failed to download (trying next):\n",
            "HTTP Error 403: Forbidden\n",
            "\n",
            "Downloading https://ossci-datasets.s3.amazonaws.com/mnist/train-images-idx3-ubyte.gz\n",
            "Downloading https://ossci-datasets.s3.amazonaws.com/mnist/train-images-idx3-ubyte.gz to ./data/MNIST/raw/train-images-idx3-ubyte.gz\n"
          ]
        },
        {
          "output_type": "stream",
          "name": "stderr",
          "text": [
            "100%|██████████| 9912422/9912422 [00:00<00:00, 49915431.85it/s]\n"
          ]
        },
        {
          "output_type": "stream",
          "name": "stdout",
          "text": [
            "Extracting ./data/MNIST/raw/train-images-idx3-ubyte.gz to ./data/MNIST/raw\n",
            "\n",
            "Downloading http://yann.lecun.com/exdb/mnist/train-labels-idx1-ubyte.gz\n",
            "Failed to download (trying next):\n",
            "HTTP Error 403: Forbidden\n",
            "\n",
            "Downloading https://ossci-datasets.s3.amazonaws.com/mnist/train-labels-idx1-ubyte.gz\n",
            "Downloading https://ossci-datasets.s3.amazonaws.com/mnist/train-labels-idx1-ubyte.gz to ./data/MNIST/raw/train-labels-idx1-ubyte.gz\n"
          ]
        },
        {
          "output_type": "stream",
          "name": "stderr",
          "text": [
            "100%|██████████| 28881/28881 [00:00<00:00, 1728509.78it/s]\n"
          ]
        },
        {
          "output_type": "stream",
          "name": "stdout",
          "text": [
            "Extracting ./data/MNIST/raw/train-labels-idx1-ubyte.gz to ./data/MNIST/raw\n",
            "\n",
            "Downloading http://yann.lecun.com/exdb/mnist/t10k-images-idx3-ubyte.gz\n",
            "Failed to download (trying next):\n",
            "HTTP Error 403: Forbidden\n",
            "\n",
            "Downloading https://ossci-datasets.s3.amazonaws.com/mnist/t10k-images-idx3-ubyte.gz\n",
            "Downloading https://ossci-datasets.s3.amazonaws.com/mnist/t10k-images-idx3-ubyte.gz to ./data/MNIST/raw/t10k-images-idx3-ubyte.gz\n"
          ]
        },
        {
          "output_type": "stream",
          "name": "stderr",
          "text": [
            "100%|██████████| 1648877/1648877 [00:00<00:00, 12026340.46it/s]\n"
          ]
        },
        {
          "output_type": "stream",
          "name": "stdout",
          "text": [
            "Extracting ./data/MNIST/raw/t10k-images-idx3-ubyte.gz to ./data/MNIST/raw\n",
            "\n",
            "Downloading http://yann.lecun.com/exdb/mnist/t10k-labels-idx1-ubyte.gz\n",
            "Failed to download (trying next):\n",
            "HTTP Error 403: Forbidden\n",
            "\n",
            "Downloading https://ossci-datasets.s3.amazonaws.com/mnist/t10k-labels-idx1-ubyte.gz\n",
            "Downloading https://ossci-datasets.s3.amazonaws.com/mnist/t10k-labels-idx1-ubyte.gz to ./data/MNIST/raw/t10k-labels-idx1-ubyte.gz\n"
          ]
        },
        {
          "output_type": "stream",
          "name": "stderr",
          "text": [
            "100%|██████████| 4542/4542 [00:00<00:00, 2925449.75it/s]"
          ]
        },
        {
          "output_type": "stream",
          "name": "stdout",
          "text": [
            "Extracting ./data/MNIST/raw/t10k-labels-idx1-ubyte.gz to ./data/MNIST/raw\n",
            "\n"
          ]
        },
        {
          "output_type": "stream",
          "name": "stderr",
          "text": [
            "\n"
          ]
        }
      ]
    },
    {
      "cell_type": "code",
      "source": [
        "# load the train dataset\n",
        "\n",
        "validation_dataset = dsets.MNIST(root='./data', train=False, download=True, transform=transforms.ToTensor())"
      ],
      "metadata": {
        "id": "X0i_JaNS1ga_"
      },
      "execution_count": 6,
      "outputs": []
    },
    {
      "cell_type": "code",
      "source": [
        "# Create Data Loader for both train and validating\n",
        "\n",
        "train_loader = torch.utils.data.DataLoader(dataset=train_dataset, batch_size=2000, shuffle=True)\n",
        "validation_loader = torch.utils.data.DataLoader(dataset=validation_dataset, batch_size=5000, shuffle=False)"
      ],
      "metadata": {
        "id": "k5Ct8W_L1iD0"
      },
      "execution_count": 7,
      "outputs": []
    },
    {
      "cell_type": "code",
      "source": [
        "# Define Neural Network, Criterion function, Optimizer and Train the Model ¶"
      ],
      "metadata": {
        "id": "sg_HkPWu1k6h"
      },
      "execution_count": null,
      "outputs": []
    },
    {
      "cell_type": "code",
      "source": [
        "# Create the criterion function\n",
        "\n",
        "criterion = nn.CrossEntropyLoss()"
      ],
      "metadata": {
        "id": "Q5DAPnZh1nqx"
      },
      "execution_count": 8,
      "outputs": []
    },
    {
      "cell_type": "code",
      "source": [
        "# Set the parameters\n",
        "\n",
        "input_dim = 28 * 28\n",
        "hidden_dim = 100\n",
        "output_dim = 10"
      ],
      "metadata": {
        "id": "GgXk6Eit1pZv"
      },
      "execution_count": 9,
      "outputs": []
    },
    {
      "cell_type": "code",
      "source": [
        "# Train Neural Network using Batch Normalization and no Batch Normalization ¶"
      ],
      "metadata": {
        "id": "M6f5M2AU1qH2"
      },
      "execution_count": null,
      "outputs": []
    },
    {
      "cell_type": "code",
      "source": [
        "# Create model, optimizer and train the model\n",
        "\n",
        "model_norm  = NetBatchNorm(input_dim, hidden_dim, hidden_dim, output_dim)\n",
        "optimizer = torch.optim.Adam(model_norm.parameters(), lr = 0.1)\n",
        "training_results_Norm=train(model_norm , criterion, train_loader, validation_loader, optimizer, epochs=5)"
      ],
      "metadata": {
        "id": "68u5jKg21sv6"
      },
      "execution_count": 10,
      "outputs": []
    },
    {
      "cell_type": "code",
      "source": [
        "# Create model without Batch Normalization, optimizer and train the model\n",
        "\n",
        "model = Net(input_dim, hidden_dim, hidden_dim, output_dim)\n",
        "optimizer = torch.optim.Adam(model.parameters(), lr = 0.1)\n",
        "training_results = train(model, criterion, train_loader, validation_loader, optimizer, epochs=5)"
      ],
      "metadata": {
        "id": "65yaxzhp1u8M"
      },
      "execution_count": 11,
      "outputs": []
    },
    {
      "cell_type": "code",
      "source": [
        "# Analyze Results"
      ],
      "metadata": {
        "id": "VATDS8oI11Pe"
      },
      "execution_count": null,
      "outputs": []
    },
    {
      "cell_type": "code",
      "source": [
        "model.eval()\n",
        "model_norm.eval()\n",
        "out=model.activation(validation_dataset[0][0].reshape(-1,28*28))\n",
        "plt.hist(out[2],label='model with no batch normalization' )\n",
        "out_norm=model_norm.activation(validation_dataset[0][0].reshape(-1,28*28))\n",
        "plt.hist(out_norm[2],label='model with normalization')\n",
        "plt.xlabel(\"activation \")\n",
        "plt.legend()\n",
        "plt.show()"
      ],
      "metadata": {
        "colab": {
          "base_uri": "https://localhost:8080/",
          "height": 449
        },
        "id": "sSjAIe8m13sH",
        "outputId": "b1ffaf5e-3988-44b6-f5f3-ada0ee8d451e"
      },
      "execution_count": 12,
      "outputs": [
        {
          "output_type": "display_data",
          "data": {
            "text/plain": [
              "<Figure size 640x480 with 1 Axes>"
            ],
            "image/png": "[encoded data removed]"
          },
          "metadata": {}
        }
      ]
    },
    {
      "cell_type": "code",
      "source": [
        "# Compare the training loss for each iteration\n",
        "# Plot the diagram to show the loss\n",
        "\n",
        "plt.plot(training_results['training_loss'], label='No Batch Normalization')\n",
        "plt.plot(training_results_Norm['training_loss'], label='Batch Normalization')\n",
        "plt.ylabel('Cost')\n",
        "plt.xlabel('iterations ')\n",
        "plt.legend()\n",
        "plt.show()"
      ],
      "metadata": {
        "colab": {
          "base_uri": "https://localhost:8080/",
          "height": 449
        },
        "id": "3JlMH2P314Oe",
        "outputId": "cdbae2c9-4d96-4436-8c4b-76423d851550"
      },
      "execution_count": 13,
      "outputs": [
        {
          "output_type": "display_data",
          "data": {
            "text/plain": [
              "<Figure size 640x480 with 1 Axes>"
            ],
            "image/png": "[encoded data removed]"
          },
          "metadata": {}
        }
      ]
    },
    {
      "cell_type": "code",
      "source": [
        "# Compare the validating accuracy for each iteration"
      ],
      "metadata": {
        "id": "DaD8NDlI18mt"
      },
      "execution_count": null,
      "outputs": []
    },
    {
      "cell_type": "code",
      "source": [
        "# Plot the diagram to show the accuracy\n",
        "\n",
        "plt.plot(training_results['validation_accuracy'],label='No Batch Normalization')\n",
        "plt.plot(training_results_Norm['validation_accuracy'],label='Batch Normalization')\n",
        "plt.ylabel('validation accuracy')\n",
        "plt.xlabel('epochs ')\n",
        "plt.legend()\n",
        "plt.show()"
      ],
      "metadata": {
        "colab": {
          "base_uri": "https://localhost:8080/",
          "height": 449
        },
        "id": "9uDO6-Q21-az",
        "outputId": "9aecff68-655b-4e3d-d684-81e5eef028c0"
      },
      "execution_count": 14,
      "outputs": [
        {
          "output_type": "display_data",
          "data": {
            "text/plain": [
              "<Figure size 640x480 with 1 Axes>"
            ],
            "image/png": "[encoded data removed]"
          },
          "metadata": {}
        }
      ]
    }
  ]
}